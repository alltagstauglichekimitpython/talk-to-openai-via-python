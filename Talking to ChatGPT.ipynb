{
 "cells": [
  {
   "cell_type": "code",
   "execution_count": null,
   "id": "e5dc0fa7-d14a-4e88-92a2-e6fd7781c238",
   "metadata": {},
   "outputs": [],
   "source": [
    "import logging\n",
    "logging.basicConfig(level=logging.INFO)\n",
    "logger = logging.getLogger(__name__)\n",
    "\n",
    "from dotenv import load_dotenv\n",
    "# lädt die (versteckte) Datei die im selben Ordner liegt wie dieses notebook file\n",
    "# die Datei muss .env benannt sein, diese Dateien sind in der Regel ausgeblendet, \n",
    "# weil Dateien mit . andeuten, dass diese im Explorer ausgeblendet werden.\n",
    "# In der Datei\n",
    "load_dotenv()"
   ]
  },
  {
   "cell_type": "markdown",
   "id": "962b802a-59cd-47df-a412-6ee0b14e0f99",
   "metadata": {},
   "source": [
    "## Header\n",
    "Wo wir unseren geheimen Schlüssel für ChatGPT mitschicken mit dem wir uns automatisch einloggen und authentifizieren (und auch unser Budget ansprechen)"
   ]
  },
  {
   "cell_type": "code",
   "execution_count": null,
   "id": "876fd926-47fd-4d2c-a8cf-3b45a5f0f9e2",
   "metadata": {},
   "outputs": [],
   "source": [
    "import os\n",
    "headers = {\n",
    "    \"Content-Type\": \"application/json\",\n",
    "    \"Authorization\": f\"Bearer {os.environ[\"API_KEY\"]}\",\n",
    "}"
   ]
  },
  {
   "cell_type": "markdown",
   "id": "ba557507-0139-401f-a626-46e0aacdc137",
   "metadata": {},
   "source": [
    "Die Daten die wir mit unsere Anfrage schicken - dies entspricht der GESAMTEN Unterhaltung!"
   ]
  },
  {
   "cell_type": "code",
   "execution_count": null,
   "id": "c12c7dde-924d-4535-9486-ca324984c825",
   "metadata": {},
   "outputs": [],
   "source": [
    "payload = {\n",
    "  # Die -mini Modelle sind günstiger per token. Fürs explorieren, macht es Sinn ein günstiges Modell zu benutzen.\n",
    "  \"model\": \"gpt-4o-mini\",\n",
    "  \"messages\": [\n",
    "    {\n",
    "        \"role\": \"system\", \n",
    "        \"content\": \"Du bist ein Poet. Du formulierst mir ein Gedicht basierend auf den Nutzereingaben.\"\n",
    "    },\n",
    "    {\n",
    "      \"role\": \"user\",\n",
    "      # Achtung: Alle informationen die wir hier an OpenAI schicken, werden gespeichert von OpenAI. \n",
    "      # Keine sensiblen Informationen oder Details über die eigene/dritte Personen bzw. Informationen mitschicken, \n",
    "      # wo man nicht die Rechte dran besitzt.\n",
    "      \"content\": \"Das Abendbrot war lecker.\"\n",
    "    }\n",
    "  ],\n",
    "  \"temperature\": 0.5\n",
    "}"
   ]
  },
  {
   "cell_type": "code",
   "execution_count": null,
   "id": "98d7f4e0-3f2e-41a9-b1d6-c679e7202bca",
   "metadata": {},
   "outputs": [],
   "source": [
    "import pprint\n",
    "import requests\n",
    "ENDPOINT = \"https://api.openai.com/v1/chat/completions\"\n",
    "    \n",
    "response = requests.post(ENDPOINT, headers=headers, json=payload)\n",
    "if response.status_code != 200:\n",
    "    logger.warning(f\"Fehlerhafte Antwort: {response.text}\")"
   ]
  },
  {
   "cell_type": "markdown",
   "id": "d358b86d-7f03-43ae-a133-853a010d61ac",
   "metadata": {},
   "source": [
    "### Rohausgabe der Rückantwort"
   ]
  },
  {
   "cell_type": "code",
   "execution_count": null,
   "id": "98b067d9-2391-4399-b969-d3f26ab8de46",
   "metadata": {},
   "outputs": [],
   "source": [
    "endpoint_response = response.json()\n",
    "pprint.pp(endpoint_response)"
   ]
  },
  {
   "cell_type": "markdown",
   "id": "bfbdb55e-b1b6-4e3e-88ca-6fd90db3cb3e",
   "metadata": {},
   "source": [
    "Extrahieren der eigentlichen Antwort aus der Rückantwort des Endpunkt"
   ]
  },
  {
   "cell_type": "code",
   "execution_count": null,
   "id": "38a4b3af-6d04-4a03-aadc-23e1fcc239fb",
   "metadata": {},
   "outputs": [],
   "source": [
    "chat_answer = endpoint_response.get('choices', [])[0].get('message', {}).get('content', \"FEHLER\")\n",
    "chat_answer"
   ]
  },
  {
   "cell_type": "code",
   "execution_count": null,
   "id": "519b406d-eda4-4075-ac93-97c07249d693",
   "metadata": {},
   "outputs": [],
   "source": []
  }
 ],
 "metadata": {
  "kernelspec": {
   "display_name": "Python 3 (ipykernel)",
   "language": "python",
   "name": "python3"
  },
  "language_info": {
   "codemirror_mode": {
    "name": "ipython",
    "version": 3
   },
   "file_extension": ".py",
   "mimetype": "text/x-python",
   "name": "python",
   "nbconvert_exporter": "python",
   "pygments_lexer": "ipython3",
   "version": "3.13.1"
  }
 },
 "nbformat": 4,
 "nbformat_minor": 5
}
