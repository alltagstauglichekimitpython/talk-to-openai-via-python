{
 "cells": [
  {
   "cell_type": "code",
   "execution_count": null,
   "id": "e5dc0fa7-d14a-4e88-92a2-e6fd7781c238",
   "metadata": {},
   "outputs": [],
   "source": [
    "import logging\n",
    "logging.basicConfig(level=logging.INFO)\n",
    "logger = logging.getLogger(__name__)\n",
    "\n",
    "from dotenv import load_dotenv\n",
    "# lädt die (versteckte) Datei die im selben Ordner liegt wie dieses notebook file\n",
    "# die Datei muss .env benannt sein, diese Dateien sind in der Regel ausgeblendet, \n",
    "# weil Dateien mit . andeuten, dass diese im Explorer ausgeblendet werden.\n",
    "# In der Datei\n",
    "load_dotenv()"
   ]
  },
  {
   "cell_type": "markdown",
   "id": "962b802a-59cd-47df-a412-6ee0b14e0f99",
   "metadata": {},
   "source": [
    "## Header\n",
    "Wo wir unseren geheimen Schlüssel für ChatGPT mitschicken mit dem wir uns automatisch einloggen und authentifizieren (und auch unser Budget ansprechen)"
   ]
  },
  {
   "cell_type": "code",
   "execution_count": null,
   "id": "876fd926-47fd-4d2c-a8cf-3b45a5f0f9e2",
   "metadata": {},
   "outputs": [],
   "source": [
    "import os\n",
    "headers = {\n",
    "    \"Content-Type\": \"application/json\",\n",
    "    \"Authorization\": f\"Bearer {os.environ[\"API_KEY\"]}\",\n",
    "}"
   ]
  },
  {
   "cell_type": "markdown",
   "id": "ba557507-0139-401f-a626-46e0aacdc137",
   "metadata": {},
   "source": [
    "Die Daten die wir mit unsere Anfrage schicken - dies entspricht der GESAMTEN Unterhaltung!"
   ]
  },
  {
   "cell_type": "code",
   "execution_count": null,
   "id": "c12c7dde-924d-4535-9486-ca324984c825",
   "metadata": {},
   "outputs": [],
   "source": [
    "payload = {\n",
    "  # Die -mini Modelle sind günstiger per token. Fürs explorieren, macht es Sinn ein günstiges Modell zu benutzen.\n",
    "  \"model\": \"gpt-4o-mini\",\n",
    "  \"messages\": [\n",
    "    {\n",
    "        \"role\": \"system\", \n",
    "        \"content\": \"Du bist ein Poet. Du formulierst mir ein Gedicht basierend auf den Nutzereingaben.\"\n",
    "    },\n",
    "    {\n",
    "      \"role\": \"user\",\n",
    "      # Achtung: Alle informationen die wir hier an OpenAI schicken, werden gespeichert von OpenAI. \n",
    "      # Keine sensiblen Informationen oder Details über die eigene/dritte Personen bzw. Informationen mitschicken, \n",
    "      # wo man nicht die Rechte dran besitzt.\n",
    "      \"content\": \"Das Abendbrot war lecker.\"\n",
    "    }\n",
    "  ],\n",
    "  \"temperature\": 0.5\n",
    "}"
   ]
  },
  {
   "cell_type": "code",
   "execution_count": null,
   "id": "98d7f4e0-3f2e-41a9-b1d6-c679e7202bca",
   "metadata": {},
   "outputs": [],
   "source": [
    "import pprint\n",
    "import requests\n",
    "ENDPOINT = \"https://api.openai.com/v1/chat/completions\"\n",
    "    \n",
    "response = requests.post(ENDPOINT, headers=headers, json=payload)\n",
    "if response.status_code != 200:\n",
    "    logger.warning(f\"Fehlerhafte Antwort: {response.text}\")"
   ]
  },
  {
   "cell_type": "markdown",
   "id": "d358b86d-7f03-43ae-a133-853a010d61ac",
   "metadata": {},
   "source": [
    "### Rohausgabe der Rückantwort"
   ]
  },
  {
   "cell_type": "code",
   "execution_count": null,
   "id": "98b067d9-2391-4399-b969-d3f26ab8de46",
   "metadata": {},
   "outputs": [],
   "source": [
    "endpoint_response = response.json()\n",
    "pprint.pp(endpoint_response)"
   ]
  },
  {
   "cell_type": "markdown",
   "id": "bfbdb55e-b1b6-4e3e-88ca-6fd90db3cb3e",
   "metadata": {},
   "source": [
    "Extrahieren der eigentlichen Antwort aus der Rückantwort des Endpunkt"
   ]
  },
  {
   "cell_type": "code",
   "execution_count": null,
   "id": "38a4b3af-6d04-4a03-aadc-23e1fcc239fb",
   "metadata": {},
   "outputs": [],
   "source": [
    "chat_answer = endpoint_response.get('choices', [])[0].get('message', {}).get('content', \"FEHLER\")\n",
    "chat_answer"
   ]
  },
  {
   "cell_type": "markdown",
   "id": "4957f094-9ce7-48cc-95c1-119d55461429",
   "metadata": {},
   "source": [
    "# Bilder schicken und Fragen zum Bild beantworten"
   ]
  },
  {
   "cell_type": "code",
   "execution_count": null,
   "id": "fdb9319f-9bae-4661-8d6a-da26fd53e349",
   "metadata": {},
   "outputs": [],
   "source": [
    "import base64\n",
    "from IPython.display import Image, display\n",
    "\n",
    "with open(\"einstein.png\", mode='rb') as h:\n",
    "    image_data = h.read()\n",
    "\n",
    "display(Image(data=image_data))"
   ]
  },
  {
   "cell_type": "code",
   "execution_count": null,
   "id": "d9454754-5bb9-4c14-97ad-17c6674308c2",
   "metadata": {},
   "outputs": [],
   "source": [
    "base64_encoded = base64.b64encode(image_data).decode('utf-8')\n",
    "\n",
    "image_payload = {\n",
    "  # Das 4o klappt in der Regel besser für Bildanalysen\n",
    "  \"model\": \"gpt-4o\",\n",
    "  \"messages\": [\n",
    "    {\"role\": \"system\", \n",
    "     \"content\": \"Du bist ein Experte darin Fotos zu analysieren und Detailfragen zu beantworten\"},\n",
    "    {\n",
    "      \"role\": \"user\",\n",
    "      \"content\": [\n",
    "        {\n",
    "          \"type\": \"text\",\n",
    "          \"text\": \"\"\"Beantworte mir die folgenden Fragen: \n",
    "                      a) Lehnt die Person gegen einen Baum? \n",
    "                      b) Trägt die Person einen Hut? \n",
    "                      c) Schaut die Person in die Kamera? \n",
    "                      d) Hat die Person einen Ziegenbart? \n",
    "                      e) Hat die Person einen Schnurrbart?\"\"\"\n",
    "        },\n",
    "        {\n",
    "          \"type\": \"image_url\",\n",
    "          \"image_url\": {\n",
    "            \"url\": f\"data:image/png;base64,{base64_encoded}\"\n",
    "          }\n",
    "        }         \n",
    "      ]\n",
    "    }\n",
    "  ],\n",
    "  \"temperature\": 0.5\n",
    "}"
   ]
  },
  {
   "cell_type": "code",
   "execution_count": null,
   "id": "5f130c8b-fc60-4ded-9c47-4889a3ff85c7",
   "metadata": {},
   "outputs": [],
   "source": [
    "import pprint\n",
    "import requests\n",
    "ENDPOINT = \"https://api.openai.com/v1/chat/completions\"\n",
    "    \n",
    "response = requests.post(ENDPOINT, headers=headers, json=image_payload)\n",
    "if response.status_code != 200:\n",
    "    logger.warning(f\"Fehlerhafte Antwort: {response.text}\")\n",
    "endpoint_response = response.json()"
   ]
  },
  {
   "cell_type": "code",
   "execution_count": null,
   "id": "48b7f28e-7658-4639-bb1a-6674a46ab253",
   "metadata": {},
   "outputs": [],
   "source": [
    "chat_answer = endpoint_response.get('choices', [])[0].get('message', {}).get('content', \"FEHLER\")\n",
    "chat_answer"
   ]
  },
  {
   "cell_type": "markdown",
   "id": "c2e6ab52-1786-4961-986f-9e8a9edc312e",
   "metadata": {},
   "source": [
    "# Werte Extraktion mit Schema Aufrufen"
   ]
  },
  {
   "cell_type": "code",
   "execution_count": null,
   "id": "a32bb265-4277-40b3-b3d7-fa94e9e6ba12",
   "metadata": {},
   "outputs": [],
   "source": [
    "# Quelle: https://de.wikipedia.org/wiki/Albert_Einstein\n",
    "text = \"\"\"\n",
    "       Albert Einstein (* 14. März 1879 in Ulm; † 18. April 1955 in Princeton, New Jersey) war ein theoretischer Physiker. Er gilt als einer der bedeutendsten Physiker der Wissenschaftsgeschichte und weltweit als einer der bekanntesten Wissenschaftler der Neuzeit. Seine Forschungen zur Struktur von Materie, Raum und Zeit sowie zum Wesen der Gravitation veränderten maßgeblich das zuvor geltende newtonsche Weltbild. 1999 wurde Albert Einstein in einer durch die Fachzeitschrift Physics World durchgeführten Umfrage unter führenden Physikern vor Isaac Newton, James Clerk Maxwell, Niels Bohr und Werner Heisenberg zum bedeutendsten Physiker aller Zeiten gewählt.[1]\n",
    "       Einsteins Hauptwerk, die Relativitätstheorie, machte ihn weltberühmt. Im Jahr 1905 erschien seine Arbeit mit dem Titel Zur Elektrodynamik bewegter Körper, deren Inhalt heute als Spezielle Relativitätstheorie bezeichnet wird. 1915 publizierte er die Allgemeine Relativitätstheorie. Auch zur Quantenphysik leistete er wesentliche Beiträge. „Für seine Verdienste um die Theoretische Physik, besonders für seine Entdeckung des Gesetzes des photoelektrischen Effekts“, erhielt er den Nobelpreis des Jahres 1921, der ihm 1922 überreicht wurde. Seine theoretischen Arbeiten spielten – im Gegensatz zur weit verbreiteten Meinung – beim Bau der Atombombe und der Entwicklung der Kernenergie nur eine indirekte Rolle.[2]\n",
    "\n",
    "        1909: Ehrendoktor der Universität Genf.[157]\n",
    "        1914: Ordentliches Mitglied der Preußischen Akademie der Wissenschaften. 1933 erklärte Einstein seinen Austritt aus der Akademie.[158]\n",
    "        1915: Korrespondierendes Mitglied der Akademie der Wissenschaften zu Göttingen (ab 1923 auswärtiges Mitglied).[159] 1933 wurde Einstein ausgeschlossen.[160]\n",
    "        1917: Ehrenpreis der Peter-Wilhelm-Müller-Stiftung in der Kategorie Mathematik, gemeinsam mit David Hilbert.\n",
    "        1919: Am 12. November wurde Einstein zum 500-jährigen Bestehen der Universität Rostock die Ehrendoktorwürde der Medizin (Dr. med. h.c.) verliehen auf Anregung von Moritz Schlick;[161] dies war die einzige deutsche Ehrendoktorwürde, die Einstein erhalten hat.[162]\n",
    "        1920: Mitglied der Königlich Dänischen Akademie der Wissenschaften und der Königlich Niederländischen Akademie der Wissenschaften.[157]\n",
    "        1920: Wahl in den Orden Pour le Mérite als dessen jüngstes Mitglied. Einstein gab bei seiner Emigration 1933 sein Ordenszeichen an den Ordenskanzler Max Planck (1858–1947) zurück; einen Wiedereintritt lehnte er[163] 1951 ab.\n",
    "        1921: Barnard-Medaille.\n",
    "        1921: Ehrendoktor der University of Manchester.[157]       \n",
    "       \"\"\""
   ]
  },
  {
   "cell_type": "code",
   "execution_count": null,
   "id": "75294b94-f059-4895-af09-d3a4c2bf172f",
   "metadata": {},
   "outputs": [],
   "source": [
    "schema = {\n",
    "    \"type\": \"function\",\n",
    "    \"function\": {\n",
    "        \"name\": \"extraction_key_information\",\n",
    "        \"description\": \"Extrahiere Schlüsselinformationen über Personen aus Beschreibungstexten\",\n",
    "        \"parameters\": {\n",
    "            \"type\": \"object\",\n",
    "            \"properties\": {   \n",
    "                \"geburtsort\": {\n",
    "                    \"type\": \"string\",  \n",
    "                    \"description\": \"Den Geburtsort der Person\",\n",
    "                },\n",
    "                \"auszeichnungen\": {\n",
    "                    \"type\": \"array\",  \n",
    "                    \"description\": \"Die Liste der Auszeichnung von Albert Einstein\",\n",
    "                    \"items\": {\n",
    "                        \"type\": \"object\",\n",
    "                        \"properties\": {\n",
    "                            \"jahr\": {\n",
    "                                \"type\": \"number\",\n",
    "                                \"description\": \"Das Jahr der Auszeichnung\"\n",
    "                            },\n",
    "                            \"beschreibungstext\": {\n",
    "                                \"type\": \"string\",\n",
    "                                \"description\": \"Beschreibung der Auszeichnung als ein Satz\"\n",
    "                            },                            \n",
    "                        }\n",
    "                    }\n",
    "                }                \n",
    "            }\n",
    "        }\n",
    "    }\n",
    "}"
   ]
  },
  {
   "cell_type": "code",
   "execution_count": null,
   "id": "4a30e6d1-be80-4597-a840-38b3fafee09b",
   "metadata": {},
   "outputs": [],
   "source": [
    "payload = {\n",
    "  \"model\": \"gpt-4o-mini\",\n",
    "  \"messages\": [\n",
    "    {\n",
    "        \"role\": \"system\", \n",
    "        \"content\": \"Du bist ein Analytiker, der Informationen aus Textblöcken extrahiert.\"\n",
    "    },\n",
    "    {\n",
    "      \"role\": \"user\",\n",
    "      \"content\": text\n",
    "    }\n",
    "  ],\n",
    "  \"temperature\": 0.5,\n",
    "  \"tools\": [schema],\n",
    "  \"tool_choice\": \"required\",    \n",
    "}"
   ]
  },
  {
   "cell_type": "code",
   "execution_count": null,
   "id": "ad601202-ee00-4ea8-a17e-7f0290275a05",
   "metadata": {},
   "outputs": [],
   "source": [
    "ENDPOINT = \"https://api.openai.com/v1/chat/completions\"\n",
    "    \n",
    "response = requests.post(ENDPOINT, headers=headers, json=payload)\n",
    "if response.status_code != 200:\n",
    "    logger.warning(f\"Fehlerhafte Antwort: {response.text}\")\n",
    "endpoint_response = response.json()"
   ]
  },
  {
   "cell_type": "code",
   "execution_count": null,
   "id": "ed50e955-d7e3-4f42-9cc1-53cf7027c786",
   "metadata": {},
   "outputs": [],
   "source": [
    "endpoint_response = response.json()\n",
    "pprint.pp(endpoint_response)"
   ]
  },
  {
   "cell_type": "code",
   "execution_count": null,
   "id": "da650b13-21e8-4962-a4ad-d92236eec540",
   "metadata": {},
   "outputs": [],
   "source": [
    "import json\n",
    "# Sobald wird ein tooling Aufruf benutzen, ändert sich die Datenstruktur, die wir zurückkriegen\n",
    "for choice in endpoint_response.get('choices', []):\n",
    "    message = choice.get('message', {})\n",
    "    for tool_call_output in message.get('tool_calls', {}):\n",
    "        result_jsonized = tool_call_output.get('function', {}).get('arguments')\n",
    "        for key, value in json.loads(result_jsonized).items():\n",
    "            if isinstance(value, str):\n",
    "                print(key, \": \", value)\n",
    "            else:\n",
    "                for nested_dict in value:\n",
    "                    for _k, _v in nested_dict.items():\n",
    "                        print(_k, \": \", _v)\n",
    "        print(\"======\")"
   ]
  },
  {
   "cell_type": "code",
   "execution_count": null,
   "id": "61953903-8841-4a24-a0a6-577dcff97f6a",
   "metadata": {},
   "outputs": [],
   "source": []
  }
 ],
 "metadata": {
  "kernelspec": {
   "display_name": "Python 3 (ipykernel)",
   "language": "python",
   "name": "python3"
  },
  "language_info": {
   "codemirror_mode": {
    "name": "ipython",
    "version": 3
   },
   "file_extension": ".py",
   "mimetype": "text/x-python",
   "name": "python",
   "nbconvert_exporter": "python",
   "pygments_lexer": "ipython3",
   "version": "3.13.1"
  }
 },
 "nbformat": 4,
 "nbformat_minor": 5
}
